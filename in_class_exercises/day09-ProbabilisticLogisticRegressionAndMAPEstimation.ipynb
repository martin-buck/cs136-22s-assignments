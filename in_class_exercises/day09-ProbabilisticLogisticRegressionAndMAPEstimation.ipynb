{
 "cells": [
  {
   "cell_type": "markdown",
   "metadata": {},
   "source": [
    "# CS 136 day09: MAP estimation for Logistic Regression\n",
    "\n",
    "## Takeaways\n",
    "\n",
    "* First-order methods are cheap but require many iterations\n",
    "* Second-order methods are awesome, but still require careful step-size selection\n",
    "* For all gradient descent methods, selecting step sizes is super important. Line search is needed!"
   ]
  },
  {
   "cell_type": "code",
   "execution_count": 1,
   "metadata": {},
   "outputs": [],
   "source": [
    "import numpy as np\n",
    "import pandas as pd\n",
    "import scipy.stats\n",
    "\n",
    "from scipy.special import expit as sigmoid"
   ]
  },
  {
   "cell_type": "code",
   "execution_count": 2,
   "metadata": {},
   "outputs": [],
   "source": [
    "np.set_printoptions(precision=3, suppress=False)"
   ]
  },
  {
   "cell_type": "code",
   "execution_count": 3,
   "metadata": {},
   "outputs": [],
   "source": [
    "pd.options.display.float_format = '{:,.3g}'.format  # show 3 digits of precision"
   ]
  },
  {
   "cell_type": "code",
   "execution_count": 4,
   "metadata": {},
   "outputs": [],
   "source": [
    "import matplotlib.pyplot as plt\n",
    "import seaborn as sns\n",
    "sns.set_style(\"whitegrid\")\n",
    "sns.set_context(\"notebook\", font_scale=1.25)"
   ]
  },
  {
   "cell_type": "markdown",
   "metadata": {},
   "source": [
    "## Creating a simple toy data for analysis"
   ]
  },
  {
   "cell_type": "code",
   "execution_count": 5,
   "metadata": {},
   "outputs": [],
   "source": [
    "N = 10  # Number of examples we observe\n",
    "M = 2     # Number of transformed features"
   ]
  },
  {
   "cell_type": "markdown",
   "metadata": {},
   "source": [
    "Create the weight vector we'll use to generate our dataset. Set an intercept of 1.2 and a slope of -0.75"
   ]
  },
  {
   "cell_type": "code",
   "execution_count": 6,
   "metadata": {},
   "outputs": [],
   "source": [
    "true_w_M = np.asarray([0.1, -0.25])"
   ]
  },
  {
   "cell_type": "markdown",
   "metadata": {},
   "source": [
    "Create a \"true\" alpha value which controls the prior precision"
   ]
  },
  {
   "cell_type": "code",
   "execution_count": 7,
   "metadata": {},
   "outputs": [],
   "source": [
    "true_alpha = 0.01"
   ]
  },
  {
   "cell_type": "markdown",
   "metadata": {},
   "source": [
    "Create observed features $x$ and observed outputs $t$ manually"
   ]
  },
  {
   "cell_type": "code",
   "execution_count": 8,
   "metadata": {},
   "outputs": [],
   "source": [
    "def calc_features(x_N1, M=2):\n",
    "    ''' Transform raw features into complete features useful for prediction\n",
    "    \n",
    "    Could do any non-linear transformations thought relevant for the problem.\n",
    "    Here we'll just do an identity transform with an extra intercept feature.\n",
    "    \n",
    "    Args\n",
    "    ----\n",
    "    x_N1 : 2D array, shape (N, 1) = (n_examples,)\n",
    "    \n",
    "    Returns\n",
    "    -------\n",
    "    phi_NM : 2D array, shape (N, M) = (n_examples, n_transformed_features)\n",
    "        First column will contain all ones (a bias or intercept feature)\n",
    "        Second column will just include the raw features\n",
    "    '''\n",
    "    assert x_N1.ndim == 2\n",
    "    assert x_N1.shape[1] == 1\n",
    "    N = x_N1.shape[0]\n",
    "    phi_NM = np.zeros((N, M))\n",
    "    phi_NM[:,0] = 1\n",
    "    phi_NM[:,1] = x_N1[:,0]\n",
    "    return phi_NM\n",
    "\n",
    "x_N1 = np.asarray([-5, -0.8, -0.7, -0.6, -0.4, 0.5, 0.8, 0.9, 4.3, 4.1]).reshape((N, 1))\n",
    "phi_NM = calc_features(x_N1)"
   ]
  },
  {
   "cell_type": "code",
   "execution_count": 9,
   "metadata": {},
   "outputs": [],
   "source": [
    "prng = np.random.RandomState(101) # reproducible random seed"
   ]
  },
  {
   "cell_type": "code",
   "execution_count": 10,
   "metadata": {},
   "outputs": [],
   "source": [
    "t_N = (prng.rand(N) < sigmoid(np.dot(phi_NM, true_w_M))).astype(np.float64)"
   ]
  },
  {
   "cell_type": "markdown",
   "metadata": {},
   "source": [
    "# A bunch of helper functions"
   ]
  },
  {
   "cell_type": "code",
   "execution_count": 11,
   "metadata": {},
   "outputs": [],
   "source": [
    "def calc_sum_of_log_bern_pmf(t_N, p_N):\n",
    "    ''' Calculate the log of the bernoulli pmf for N observations\n",
    "    \n",
    "    Args\n",
    "    ----\n",
    "    t_N : 1D array, shape (N,)\n",
    "        Binary value (0 or 1) for each example n\n",
    "    p_N : 1D array, shape (N,)\n",
    "        Probability parameter of the Bernoulli for each example n\n",
    "        \n",
    "    Returns\n",
    "    -------\n",
    "    summed_logpmf : scalar float\n",
    "        Summed log PMF over all N examples given\n",
    "    '''\n",
    "    # Make sure provided probabilities are not hard 0 or hard 1\n",
    "    # so that the log values will not be numerically bad\n",
    "    safe_p_N = np.minimum(np.maximum(p_N, 1e-100), 1 - 1e-13)\n",
    "    return np.sum(np.log(safe_p_N)[t_N==1]) + np.sum(np.log(1-safe_p_N)[t_N==0])"
   ]
  },
  {
   "cell_type": "code",
   "execution_count": 12,
   "metadata": {},
   "outputs": [],
   "source": [
    "def calc_loss(wguess_M, phi_NM, t_N, alpha=0.1):\n",
    "    ''' Compute the negative log prior plus negative log likelihood\n",
    "    \n",
    "    Args\n",
    "    ----\n",
    "    w_M : 1D array, shape (M,)\n",
    "        Weight parameter at which we want to evaluate the MAP objective\n",
    "    phi_NM : 2D array, shape (N,M)\n",
    "        Each row is a feature vector for one example\n",
    "    t_N : 1D array, shape (N,)\n",
    "        Each row is a output scalar value for one example\n",
    "    alpha : positive scalar\n",
    "        Prior precision\n",
    "    \n",
    "    Returns\n",
    "    -------\n",
    "    \n",
    "    '''\n",
    "    log_prior_pdf = scipy.stats.multivariate_normal.logpdf(wguess_M, np.zeros(M), 1.0/alpha * np.eye(M)) \n",
    "    log_lik_pdf = calc_sum_of_log_bern_pmf(t_N, sigmoid(np.dot(phi_NM, wguess_M)))\n",
    "    \n",
    "    return -1 * log_prior_pdf + -1 * log_lik_pdf"
   ]
  },
  {
   "cell_type": "code",
   "execution_count": 13,
   "metadata": {},
   "outputs": [],
   "source": [
    "def calc_R(w_M, phi_NM):\n",
    "    s_N = np.dot(phi_NM, w_M)\n",
    "    R_NN = np.diag( sigmoid(s_N) * sigmoid(-s_N) )\n",
    "    return R_NN"
   ]
  },
  {
   "cell_type": "code",
   "execution_count": 14,
   "metadata": {},
   "outputs": [],
   "source": [
    "def calc_gradient_of_map_loss(w_M, phi_NM, t_N, alpha):\n",
    "    ''' Calculate the gradient.\n",
    "    \n",
    "    Returns\n",
    "    -------\n",
    "    g_M : 1D array, shape (M,)\n",
    "        Gradient vector evaluated at current weights w\n",
    "    '''\n",
    "    # Compute predicted probability of positive class\n",
    "    yproba_N = sigmoid( np.dot(phi_NM, w_M) )\n",
    "    return np.dot(phi_NM.T, (yproba_N - t_N)) + alpha * w_M"
   ]
  },
  {
   "cell_type": "code",
   "execution_count": 15,
   "metadata": {},
   "outputs": [],
   "source": [
    "def calc_hessian_of_map_loss(w_M, phi_NM, t_N, alpha):\n",
    "    ''' Calculate the Hessian.\n",
    "    \n",
    "    Returns\n",
    "    -------\n",
    "    H_MM : 2D array, shape (M,M)\n",
    "        Hessian matrix evaluated at current weights w\n",
    "    '''\n",
    "    R_NN = calc_R(w_M, phi_NM)\n",
    "    return np.dot(phi_NM.T, np.dot(R_NN, phi_NM)) + alpha * np.eye(M)"
   ]
  },
  {
   "cell_type": "markdown",
   "metadata": {},
   "source": [
    "## First-order gradient descent"
   ]
  },
  {
   "cell_type": "code",
   "execution_count": 16,
   "metadata": {},
   "outputs": [],
   "source": [
    "def first_order_gradient_descent( step_size , max_n_steps ):\n",
    "\n",
    "    w_M = 1.5 * np.ones(M)\n",
    "\n",
    "    GD1_history_of_w = [w_M]\n",
    "    GD1_history_of_loss = [calc_loss(w_M, phi_NM, t_N, true_alpha)]\n",
    "\n",
    "    for step in range(max_n_steps):\n",
    "\n",
    "        # Compute gradient\n",
    "        g_M = calc_gradient_of_map_loss(w_M, phi_NM, t_N, true_alpha)\n",
    "\n",
    "        # Update the weights by taking a step downhill\n",
    "        w_M = w_M - step_size * g_M\n",
    "\n",
    "        # Print out progress\n",
    "        cur_loss = calc_loss(w_M, phi_NM, t_N, true_alpha)\n",
    "        print(\"step %3d/%d  loss %11.4f | gradient_norm %9.4f | intercept %9.3f | slope %9.3f\" % (\n",
    "            step, max_n_steps, cur_loss, np.sum(np.abs(g_M)), w_M[0], w_M[1]))\n",
    "        GD1_history_of_loss.append(cur_loss)\n",
    "        GD1_history_of_w.append(w_M)\n",
    "\n",
    "        if step % 10:\n",
    "            step_size = 0.95 * step_size  # slowly decay the step size\n",
    "\n",
    "    bestw_fromGD_M = w_M\n",
    "    \n",
    "    return GD1_history_of_w , GD1_history_of_loss"
   ]
  },
  {
   "cell_type": "markdown",
   "metadata": {},
   "source": [
    "# Second order gradient descent"
   ]
  },
  {
   "cell_type": "code",
   "execution_count": 17,
   "metadata": {},
   "outputs": [],
   "source": [
    "def second_order_gradient_descent( step_size , max_n_steps ):\n",
    "    \n",
    "\n",
    "    w_M = 1.5 * np.ones(M)\n",
    "\n",
    "    GD2_history_of_w = [w_M]\n",
    "    GD2_history_of_loss = [calc_loss(w_M, phi_NM, t_N, true_alpha)]\n",
    "\n",
    "    for step in range(max_n_steps):\n",
    "\n",
    "        g_M = calc_gradient_of_map_loss(w_M, phi_NM, t_N, true_alpha)\n",
    "        H_MM = calc_hessian_of_map_loss(w_M, phi_NM, t_N, true_alpha)\n",
    "        w_M = w_M - step_size * np.linalg.solve(H_MM, g_M) # compute H^1 times g\n",
    "        cur_loss = calc_loss(w_M, phi_NM, t_N, true_alpha)\n",
    "\n",
    "        print(\"step %3d/%d  loss %11.4f | gradient_norm %9.4f | intercept %9.3f | slope %9.3f\" % (\n",
    "            step, max_n_steps, cur_loss, np.sum(np.abs(g_M)), w_M[0], w_M[1]))\n",
    "        GD2_history_of_loss.append(cur_loss)\n",
    "        GD2_history_of_w.append(w_M)\n",
    "\n",
    "        #if step % 10:\n",
    "        #    step_size = 0.95 * step_size # slowly decay step size\n",
    "        \n",
    "    return GD2_history_of_w , GD2_history_of_loss"
   ]
  },
  {
   "cell_type": "code",
   "execution_count": 54,
   "metadata": {},
   "outputs": [],
   "source": [
    "def plot_results( GD1_history_of_w , GD2_history_of_w ):\n",
    "    # Create a pretty contour plot over the grid of w[0], w[1], loss values\n",
    "    whistory_GD1_T2 = np.vstack(GD1_history_of_w)\n",
    "    whistory_GD2_T2 = np.vstack(GD2_history_of_w)\n",
    "\n",
    "    # Create a 2-dim grid of possible w values\n",
    "    \n",
    "    G = 51 # G possible values for intercept\n",
    "    w0_grid_G = np.linspace( -3 , 3 , G)\n",
    "\n",
    "    H = 51 # H possible values for slope\n",
    "    w1_grid_H = np.linspace( -3 , 3 , H)\n",
    "\n",
    "    w0_GH, w1_GH = np.meshgrid(w0_grid_G, w1_grid_H,)\n",
    "\n",
    "    # Compute loss at each possible value in our grid\n",
    "    loss_GH = np.zeros((G, H))\n",
    "    for gg in range(G):\n",
    "        for hh in range(H):\n",
    "            cur_w_M = np.hstack([w0_GH[gg,hh], w1_GH[gg, hh]])        \n",
    "            loss_GH[gg, hh] = calc_loss(cur_w_M, phi_NM, t_N, true_alpha)\n",
    "\n",
    "    levels = np.linspace(0, 40, 51) # 50 evenly spaced levels\n",
    "\n",
    "    fig_handle, ax_handle = plt.subplots(nrows=1, ncols=1, figsize=(8,8));\n",
    "\n",
    "    ax_handle.contour(w0_GH, w1_GH, loss_GH, levels=levels, linewidths=0, colors='k')\n",
    "    cntrf_handle = ax_handle.contourf(w0_GH, w1_GH, loss_GH, levels=levels, cmap='RdBu_r', vmin=levels[0], vmax=levels[-1]);\n",
    "\n",
    "    cbar = plt.colorbar(cntrf_handle, ax=ax_handle)\n",
    "    cbar.set_label('MAP loss objective (lower is better)', fontsize=16);\n",
    "    cbar.set_ticks(levels[::10]);\n",
    "\n",
    "    # Show the first 10 iterates of GD\n",
    "    ax_handle.plot(whistory_GD1_T2[:1,0], whistory_GD1_T2[:1,1], 'kx', markersize=15, label='Initial w value')\n",
    "    ax_handle.plot(whistory_GD1_T2[:10,0], whistory_GD1_T2[:10,1], 'ks-', label='First 10 steps of 1st-order GD')\n",
    "    ax_handle.plot(whistory_GD2_T2[:10,0], whistory_GD2_T2[:10,1], 'ms-', label='First 10 steps of 2st-order GD')\n",
    "\n",
    "    ax_handle.set_xlim( -3 , 3 )\n",
    "    ax_handle.set_ylim( -3 , 3 )\n",
    "    \n",
    "    plt.xlabel('intercept   $w_1$');\n",
    "    plt.ylabel('slope   $w_2$');\n",
    "    plt.gca().set_aspect('equal', 'box');\n",
    "    plt.ylim([-3, 2]);\n",
    "    plt.legend(loc='upper left');"
   ]
  },
  {
   "cell_type": "markdown",
   "metadata": {},
   "source": [
    "# Example Code to Modify"
   ]
  },
  {
   "cell_type": "code",
   "execution_count": 55,
   "metadata": {},
   "outputs": [
    {
     "name": "stdout",
     "output_type": "stream",
     "text": [
      "First Order gradient descent:\n",
      "step   0/10  loss     13.3582 | gradient_norm   12.4385 | intercept     1.231 | slope    -0.719\n",
      "step   1/10  loss     12.9273 | gradient_norm    2.8867 | intercept     1.098 | slope    -0.275\n",
      "step   2/10  loss     12.8019 | gradient_norm    2.4277 | intercept     0.878 | slope    -0.516\n",
      "step   3/10  loss     12.6890 | gradient_norm    1.7594 | intercept     0.815 | slope    -0.262\n",
      "step   4/10  loss     12.6510 | gradient_norm    1.5637 | intercept     0.708 | slope    -0.423\n",
      "step   5/10  loss     12.6150 | gradient_norm    1.0530 | intercept     0.683 | slope    -0.278\n",
      "step   6/10  loss     12.6012 | gradient_norm    0.8692 | intercept     0.634 | slope    -0.363\n",
      "step   7/10  loss     12.5921 | gradient_norm    0.5274 | intercept     0.620 | slope    -0.299\n",
      "step   8/10  loss     12.5887 | gradient_norm    0.3724 | intercept     0.599 | slope    -0.330\n",
      "step   9/10  loss     12.5872 | gradient_norm    0.2076 | intercept     0.590 | slope    -0.311\n",
      "\n",
      "Second Order gradient descent:\n",
      "step   0/10  loss     23.7395 | gradient_norm   12.4385 | intercept    -0.466 | slope    -2.940\n",
      "step   1/10  loss     12.8758 | gradient_norm    6.3231 | intercept     0.627 | slope    -0.103\n",
      "step   2/10  loss     12.7987 | gradient_norm    3.1766 | intercept     0.613 | slope    -0.131\n",
      "step   3/10  loss     12.7424 | gradient_norm    2.7012 | intercept     0.601 | slope    -0.155\n",
      "step   4/10  loss     12.7011 | gradient_norm    2.2980 | intercept     0.593 | slope    -0.176\n",
      "step   5/10  loss     12.6707 | gradient_norm    1.9555 | intercept     0.586 | slope    -0.194\n",
      "step   6/10  loss     12.6482 | gradient_norm    1.6643 | intercept     0.580 | slope    -0.210\n",
      "step   7/10  loss     12.6317 | gradient_norm    1.4165 | intercept     0.576 | slope    -0.224\n",
      "step   8/10  loss     12.6195 | gradient_norm    1.2056 | intercept     0.572 | slope    -0.236\n",
      "step   9/10  loss     12.6105 | gradient_norm    1.0260 | intercept     0.570 | slope    -0.247\n"
     ]
    },
    {
     "name": "stderr",
     "output_type": "stream",
     "text": [
      "/var/folders/p7/9kd4l_491f5_m_rrz6cw44w80000gq/T/ipykernel_81111/1340406650.py:30: MatplotlibDeprecationWarning: Auto-removal of grids by pcolor() and pcolormesh() is deprecated since 3.5 and will be removed two minor releases later; please call grid(False) first.\n",
      "  cbar = plt.colorbar(cntrf_handle, ax=ax_handle)\n"
     ]
    },
    {
     "data": {
      "image/png": "[encoded data removed]",
      "text/plain": [
       "<Figure size 576x576 with 2 Axes>"
      ]
     },
     "metadata": {},
     "output_type": "display_data"
    }
   ],
   "source": [
    "max_n_steps = 10\n",
    "\n",
    "first_order_step_size = 0.2 # Selected by starting at 1.0, and trying smaller values until first 5 steps made loss better\n",
    "print( \"First Order gradient descent:\" )\n",
    "GD1_history_of_w , GD1_history_of_loss = first_order_gradient_descent( first_order_step_size , max_n_steps )   \n",
    "    \n",
    "second_order_step_size = 0.15 # Selected by starting at 1.0, and trying smaller values until first 5 steps made loss better\n",
    "print( \"\\nSecond Order gradient descent:\" )\n",
    "GD2_history_of_w , GD2_history_of_loss = second_order_gradient_descent( second_order_step_size , max_n_steps )\n",
    "\n",
    "plot_results( GD1_history_of_w , GD2_history_of_w )"
   ]
  },
  {
   "cell_type": "markdown",
   "metadata": {},
   "source": [
    "## Discussion: Compare the *first step* that 1st-order GD took to the *first step* that 2nd-order GD took.\n",
    "\n",
    "### Note: The step size here has been optimized for each method\n",
    "\n",
    "* Which is a better *direction*?\n",
    "* Which ended up closer to the optimal value because of well-chosen step-length?"
   ]
  },
  {
   "cell_type": "markdown",
   "metadata": {},
   "source": [
    "## Coding: Try the following values of step sizes and compare: \n",
    "- 0.5\n",
    "- 0.1\n",
    "- 0.05\n",
    "\n",
    "### Note: These are some other plausible values that may or may not be good."
   ]
  },
  {
   "cell_type": "code",
   "execution_count": 61,
   "metadata": {},
   "outputs": [
    {
     "ename": "NameError",
     "evalue": "name 'TODO' is not defined",
     "output_type": "error",
     "traceback": [
      "\u001b[0;31m---------------------------------------------------------------------------\u001b[0m",
      "\u001b[0;31mNameError\u001b[0m                                 Traceback (most recent call last)",
      "\u001b[0;32m/var/folders/p7/9kd4l_491f5_m_rrz6cw44w80000gq/T/ipykernel_81111/2036712963.py\u001b[0m in \u001b[0;36m<module>\u001b[0;34m\u001b[0m\n\u001b[1;32m      1\u001b[0m \u001b[0mmax_n_steps\u001b[0m \u001b[0;34m=\u001b[0m \u001b[0;36m10\u001b[0m\u001b[0;34m\u001b[0m\u001b[0;34m\u001b[0m\u001b[0m\n\u001b[0;32m----> 2\u001b[0;31m \u001b[0mstep_size\u001b[0m \u001b[0;34m=\u001b[0m \u001b[0mTODO\u001b[0m\u001b[0;34m\u001b[0m\u001b[0;34m\u001b[0m\u001b[0m\n\u001b[0m\u001b[1;32m      3\u001b[0m \u001b[0;34m\u001b[0m\u001b[0m\n\u001b[1;32m      4\u001b[0m \u001b[0mprint\u001b[0m\u001b[0;34m(\u001b[0m \u001b[0;34m\"First Order gradient descent:\"\u001b[0m \u001b[0;34m)\u001b[0m\u001b[0;34m\u001b[0m\u001b[0;34m\u001b[0m\u001b[0m\n\u001b[1;32m      5\u001b[0m \u001b[0mGD1_history_of_w\u001b[0m \u001b[0;34m,\u001b[0m \u001b[0mGD1_history_of_loss\u001b[0m \u001b[0;34m=\u001b[0m \u001b[0mfirst_order_gradient_descent\u001b[0m\u001b[0;34m(\u001b[0m \u001b[0mstep_size\u001b[0m \u001b[0;34m,\u001b[0m \u001b[0mmax_n_steps\u001b[0m \u001b[0;34m)\u001b[0m\u001b[0;34m\u001b[0m\u001b[0;34m\u001b[0m\u001b[0m\n",
      "\u001b[0;31mNameError\u001b[0m: name 'TODO' is not defined"
     ]
    }
   ],
   "source": [
    "max_n_steps = 10\n",
    "step_size = 0.05\n",
    "\n",
    "print( \"First Order gradient descent:\" )\n",
    "GD1_history_of_w , GD1_history_of_loss = first_order_gradient_descent( step_size , max_n_steps )   \n",
    "    \n",
    "print( \"\\nSecond Order gradient descent:\" )\n",
    "GD2_history_of_w , GD2_history_of_loss = second_order_gradient_descent( step_size , max_n_steps )\n",
    "\n",
    "plot_results( GD1_history_of_w , GD2_history_of_w )"
   ]
  },
  {
   "cell_type": "markdown",
   "metadata": {},
   "source": [
    "## Discussion: Compare the overall behavior of 1st and 2nd order GD.... do you see big qualitative differences?\n",
    "\n",
    "* Which one makes faster progress toward the minimum?\n",
    "* How are both sensitive to the step-size choice?"
   ]
  },
  {
   "cell_type": "code",
   "execution_count": null,
   "metadata": {},
   "outputs": [],
   "source": []
  }
 ],
 "metadata": {
  "kernelspec": {
   "display_name": "Python 3 (ipykernel)",
   "language": "python",
   "name": "python3"
  },
  "language_info": {
   "codemirror_mode": {
    "name": "ipython",
    "version": 3
   },
   "file_extension": ".py",
   "mimetype": "text/x-python",
   "name": "python",
   "nbconvert_exporter": "python",
   "pygments_lexer": "ipython3",
   "version": "3.9.7"
  }
 },
 "nbformat": 4,
 "nbformat_minor": 2
}
