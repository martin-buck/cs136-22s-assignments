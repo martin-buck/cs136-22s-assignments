{
 "cells": [
  {
   "cell_type": "markdown",
   "metadata": {},
   "source": [
    "# Day 13: An Example of Markov Chain Monte Carlo Sampling\n",
    "\n",
    "We will be looking at a specific version of MCMC sampling called gibbs sampling for a 2D multivariate normal.  This will be covered in detail in a few lectures, but the goal for now it get a sense of what it means to sample from a Markov Chain.\n"
   ]
  },
  {
   "cell_type": "markdown",
   "metadata": {},
   "source": [
    "# Some helper code"
   ]
  },
  {
   "cell_type": "code",
   "execution_count": 1,
   "metadata": {},
   "outputs": [],
   "source": [
    "##Imports\n",
    "import numpy as np\n",
    "import pandas as pd\n",
    "import scipy.stats\n",
    "\n",
    "np.set_printoptions(precision=3, suppress=True)\n",
    "\n",
    "import matplotlib.pyplot as plt\n",
    "import seaborn as sns\n",
    "sns.set_style(\"whitegrid\")\n",
    "sns.set_context(\"notebook\", font_scale=1.25)\n",
    "\n",
    "np.random.seed( 12 )"
   ]
  },
  {
   "cell_type": "code",
   "execution_count": 2,
   "metadata": {},
   "outputs": [],
   "source": [
    "##Gibbs sampling helper functions\n",
    "\n",
    "def draw_z0_given_z1(z1):\n",
    "    ''' Sample a value of z[0] from its conditional given z[1] \n",
    "    \n",
    "    Args\n",
    "    ----\n",
    "    z1 : float\n",
    "        Value of random variable z[1]\n",
    "    random_state : numpy RandomState object\n",
    "        Random number generator\n",
    "    \n",
    "    Returns\n",
    "    -------\n",
    "    z0_samp : float\n",
    "        Sample from the conditional p(z[0] | z[1])\n",
    "    '''\n",
    "    ## First, use Bishop textbook formulas to compute the conditional mean/var\n",
    "    mean_01 = 0.4 * z1\n",
    "    var_01 = 0.68\n",
    "    \n",
    "    # Draw a value u from the Standard Normal (zero mean, unit variance)\n",
    "    u_samp = np.random.randn()\n",
    "    \n",
    "    # Transform this value into a sample from Normal(mean_01, var_01)\n",
    "    # Remember, if u ~ Normal(0, 1), a \"standard\" normal with mean 0 variance 1,\n",
    "    # then using transform: x <- T(u), with T(u) = \\mu + \\sigma * u\n",
    "    # we can say x ~ Normal(\\mu, \\sigma^2)\n",
    "    z0_samp = mean_01 + np.sqrt(var_01) * u_samp\n",
    "    return z0_samp\n",
    "\n",
    "def draw_z1_given_z0(z0):\n",
    "    ''' Sample a value of z[1] from its conditional given z[0] \n",
    "    \n",
    "    Args\n",
    "    ----\n",
    "    z0 : float\n",
    "        Value of random variable z[0]\n",
    "    random_state : numpy RandomState object\n",
    "        Random number generator\n",
    "    \n",
    "    Returns\n",
    "    -------\n",
    "    z1_samp : float\n",
    "        Sample from the conditional p(z[1] | z[0])\n",
    "    '''\n",
    "    ## First, use Bishop textbook formulas to compute conditional mean/var\n",
    "    mean_10 = 0.8 * z0\n",
    "    var_10 = 1.36\n",
    "    \n",
    "    # Draw a value u from the Standard Normal (zero mean, unit variance)\n",
    "    u_samp = np.random.randn()\n",
    "    \n",
    "    # Transform this value into a sample from Normal(mean_01, var_01)\n",
    "    # Remember, if u ~ Normal(0, 1), a \"standard\" normal with mean 0 variance 1,\n",
    "    # then using transform: x <- T(u), with T(u) = \\mu + \\sigma * u\n",
    "    # we can say x ~ Normal(\\mu, \\sigma^2)\n",
    "    z1_samp = mean_10 + np.sqrt(var_10) * u_samp\n",
    "    return z1_samp"
   ]
  },
  {
   "cell_type": "code",
   "execution_count": 3,
   "metadata": {},
   "outputs": [],
   "source": [
    "##Using gibbs sampling\n",
    "def draw_sample_from_mcmc( prev_sample ):\n",
    "    new_sample = np.zeros( 2 )\n",
    "    new_sample[ 0 ] = draw_z0_given_z1(prev_sample[1])\n",
    "    new_sample[ 1 ] = draw_z1_given_z0(prev_sample[0])\n",
    "    return new_sample\n",
    "    \n",
    "##Using numpy's built in MVN\n",
    "def draw_sample_from_mvn():\n",
    "    true_mu_2 = np.zeros(2)\n",
    "    true_cov_22 = np.asarray([[1.0, 0.8], [0.8, 2.0]])\n",
    "    true_sample_SD = np.random.multivariate_normal(true_mu_2, true_cov_22 )\n",
    "    \n",
    "    return true_sample_SD"
   ]
  },
  {
   "cell_type": "code",
   "execution_count": 4,
   "metadata": {},
   "outputs": [],
   "source": [
    "def plot_samples_from_mcmc_and_numpy_mvn( z_samples_SD , true_samples_SD ):\n",
    "\n",
    "    true_density = []\n",
    "    for i in range( 1000 ):\n",
    "        true_density.append( draw_sample_from_mvn() )\n",
    "    true_density = np.array( true_density )\n",
    "    \n",
    "    z_samples_SD = np.array( z_samples_SD )\n",
    "    true_samples_SD = np.array( true_samples_SD )\n",
    "    \n",
    "    fig, ax_grid = plt.subplots(nrows=1, ncols=2, sharex=True, sharey=True, figsize=(10,4))\n",
    "\n",
    "    ax_grid[0].plot(z_samples_SD[0,0], z_samples_SD[0,1], 'rx' )\n",
    "    ax_grid[0].legend( 'Start state' )\n",
    "    ax_grid[0].plot(z_samples_SD[:,0], z_samples_SD[:,1], 'k' )\n",
    "    ax_grid[0].set_title('MCMC sampler')\n",
    "    ax_grid[0].set_aspect('equal', 'box');\n",
    "    ax_grid[0].set_xlabel('$z_0$');\n",
    "    ax_grid[0].set_ylabel('$z_1$');\n",
    "\n",
    "    ax_grid[1].plot(true_samples_SD[:,0], true_samples_SD[:,1], 'k.')\n",
    "    ax_grid[1].set_title('np.random.multivariate_normal')\n",
    "    ax_grid[1].set_aspect('equal', 'box');\n",
    "    #ax_grid[1].set_xlim([-6, 6]);\n",
    "    #ax_grid[1].set_ylim([-6, 6]);\n",
    "    ax_grid[1].set_xlabel('$z_0$');\n",
    "    ax_grid[1].set_ylabel('$z_1$');"
   ]
  },
  {
   "cell_type": "markdown",
   "metadata": {},
   "source": [
    "# Exercise: Compare results of your MCMC-sampler and Numpy's built-in sampler side-by-side"
   ]
  },
  {
   "cell_type": "markdown",
   "metadata": {},
   "source": [
    "## Task 1: implement a for loop to draw S total samples from both an MCMC method for sampling, and numpy's built in sampler for an MVN and visualize the results.\n",
    "\n",
    "You have been given functions that draw 1 sample from each of these methods, and an example of how to do so.  Be careful to pass in the correct input to the function that draws an mcmc sample!  It should always be the previously drawn MCMC sample.  "
   ]
  },
  {
   "cell_type": "code",
   "execution_count": 5,
   "metadata": {},
   "outputs": [
    {
     "data": {
      "image/png": "[encoded data removed]",
      "text/plain": [
       "<Figure size 720x288 with 2 Axes>"
      ]
     },
     "metadata": {},
     "output_type": "display_data"
    }
   ],
   "source": [
    "S = 100\n",
    "\n",
    "mcmc_sample = np.zeros( 2 ) ##Start state for mcmc\n",
    "##Draw 1 mcmc sample\n",
    "mcmc_sample = draw_sample_from_mcmc( mcmc_sample )\n",
    "\n",
    "##Draw 1 sample from numpy's MVN\n",
    "mvn_sample = draw_sample_from_mvn()\n",
    "\n",
    "mcmc_samples = [ mcmc_sample ]\n",
    "mvn_samples = [ mvn_sample ]\n",
    "\n",
    "##TODO: sample S-1 more samples from each method and add them to the arrays of samples\n",
    "\n",
    "plot_samples_from_mcmc_and_numpy_mvn( mcmc_samples , mvn_samples )\n"
   ]
  },
  {
   "cell_type": "markdown",
   "metadata": {},
   "source": [
    "## Task 2: Discuss the 2 methods.  Do both sets of samples that look similar?  Does MCMC work?  \n",
    "\n",
    "Note: You can treat the samples drawn from the numpy function as ground truth."
   ]
  },
  {
   "cell_type": "markdown",
   "metadata": {},
   "source": [
    "## Task 3: Now draw only 5 samples and start the mcmc chain in a \"bad\" state at [-10, 10].  Then draw 5 samples again, but this time start the mcmc chain in a \"better\" state at [ 0, 0]."
   ]
  },
  {
   "cell_type": "code",
   "execution_count": 6,
   "metadata": {},
   "outputs": [
    {
     "data": {
      "image/png": "[encoded data removed]",
      "text/plain": [
       "<Figure size 720x288 with 2 Axes>"
      ]
     },
     "metadata": {},
     "output_type": "display_data"
    },
    {
     "data": {
      "image/png": "[encoded data removed]",
      "text/plain": [
       "<Figure size 720x288 with 2 Axes>"
      ]
     },
     "metadata": {},
     "output_type": "display_data"
    }
   ],
   "source": [
    "S = 5\n",
    "\n",
    "##Bad mcmc start state example\n",
    "\n",
    "mcmc_sample = [ -10 , 10 ] ##Bad start state for mcmc\n",
    "##Draw 1 mcmc sample\n",
    "mcmc_sample = draw_sample_from_mcmc( mcmc_sample )\n",
    "\n",
    "##Draw 1 sample from numpy's MVN\n",
    "mvn_sample = draw_sample_from_mvn()\n",
    "\n",
    "mcmc_samples = [ mcmc_sample ]\n",
    "mvn_samples = [ mvn_sample ]\n",
    "\n",
    "##TODO: sample S-1 more samples from each method and add them to the arrays of samples\n",
    "##You can use the same for loop as above.\n",
    "\n",
    "plot_samples_from_mcmc_and_numpy_mvn( mcmc_samples , mvn_samples )\n",
    "\n",
    "\n",
    "############################################################################################################\n",
    "\n",
    "\n",
    "##Good mcmc start state example\n",
    "\n",
    "mcmc_sample = [ 0 , 0 ] ##Good start state for mcmc\n",
    "##Draw 1 mcmc sample\n",
    "mcmc_sample = draw_sample_from_mcmc( mcmc_sample )\n",
    "\n",
    "##Draw 1 sample from numpy's MVN\n",
    "mvn_sample = draw_sample_from_mvn()\n",
    "\n",
    "mcmc_samples = [ mcmc_sample ]\n",
    "mvn_samples = [ mvn_sample ]\n",
    "\n",
    "##TODO: sample S-1 more samples from each method and add them to the arrays of samples\n",
    "##You can use the same for loop as above.\n",
    "\n",
    "\n",
    "plot_samples_from_mcmc_and_numpy_mvn( mcmc_samples , mvn_samples )"
   ]
  },
  {
   "cell_type": "markdown",
   "metadata": {},
   "source": [
    "## Task 4: Discuss--did the \"bad\" start state affect the MCMC sampler in a different way than the \"good\" start state?  Is there any analogue for the numpy function?\n",
    "\n",
    "Note: you can use the numpy samples from task 1 as ground truth for what true samples from the distribution should look like.\n",
    "\n",
    "Note: Make sure to look at the x and y axes of the graph"
   ]
  },
  {
   "cell_type": "code",
   "execution_count": null,
   "metadata": {},
   "outputs": [],
   "source": []
  }
 ],
 "metadata": {
  "kernelspec": {
   "display_name": "Python 3 (ipykernel)",
   "language": "python",
   "name": "python3"
  },
  "language_info": {
   "codemirror_mode": {
    "name": "ipython",
    "version": 3
   },
   "file_extension": ".py",
   "mimetype": "text/x-python",
   "name": "python",
   "nbconvert_exporter": "python",
   "pygments_lexer": "ipython3",
   "version": "3.9.7"
  }
 },
 "nbformat": 4,
 "nbformat_minor": 2
}
